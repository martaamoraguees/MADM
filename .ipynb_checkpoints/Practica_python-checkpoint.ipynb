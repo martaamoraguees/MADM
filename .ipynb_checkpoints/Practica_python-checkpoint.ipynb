{
 "cells": [
  {
   "cell_type": "markdown",
   "id": "9ac1ea12-50ff-480c-85ce-8ea888d77e11",
   "metadata": {},
   "source": [
    "# Práctica Introducción a Python\n",
    "## Marta Moragues Mateo\n",
    "### 28/10/2024\n",
    "### https://github.com/martaamoraguees/MADM/blob/master/Practica_python.ipynb"
   ]
  },
  {
   "cell_type": "markdown",
   "id": "64b2e531-90cf-4047-bd32-3f881e9b3b13",
   "metadata": {},
   "source": [
    "### **Ejericios rápidos**\n",
    "#### 1. Realizar una función que recibe 3 números (d, m, a) que representan una fecha (día, mes y año). El programa debe devolver el día (la fecha) siguiente a la recibida por parámetro. Se debe tener en cuenta los días de cada mes y los años bisiestos."
   ]
  },
  {
   "cell_type": "code",
   "execution_count": 127,
   "id": "4d929cdb-e0ef-4319-bb95-86cbdec42e72",
   "metadata": {},
   "outputs": [],
   "source": [
    "def año_bisiesto (año):\n",
    "    bisiesto = año % 4 == 0\n",
    "    return(bisiesto)\n",
    "\n",
    "def fecha_siguiente (d,m,a):\n",
    "    dias_meses = [31, 29 if año_bisiesto(a) else 28, 31, 30, 31, 30, 31, 31, 30, 31, 30, 31]\n",
    "    d += 1\n",
    "    if d > dias_meses[m-1]:\n",
    "        d = 1\n",
    "        m += 1\n",
    "        if m > 12:\n",
    "            m = 1\n",
    "            a += 1\n",
    "    return(d,m,a)"
   ]
  },
  {
   "cell_type": "code",
   "execution_count": 128,
   "id": "ad2e1d16-a6da-49eb-9943-dd1f60125740",
   "metadata": {},
   "outputs": [
    {
     "data": {
      "text/plain": [
       "(29, 2, 2024)"
      ]
     },
     "execution_count": 128,
     "metadata": {},
     "output_type": "execute_result"
    }
   ],
   "source": [
    "fecha_siguiente(28,2,2024) #prueba febrero con año bisiesto"
   ]
  },
  {
   "cell_type": "code",
   "execution_count": 129,
   "id": "7d62e394-638f-43cc-a725-99a9ba719705",
   "metadata": {},
   "outputs": [
    {
     "data": {
      "text/plain": [
       "(1, 3, 2023)"
      ]
     },
     "execution_count": 129,
     "metadata": {},
     "output_type": "execute_result"
    }
   ],
   "source": [
    "fecha_siguiente(28,2,2023) #prueba febrero con año no bisiesto"
   ]
  },
  {
   "cell_type": "code",
   "execution_count": 130,
   "id": "21369300-151e-4b3e-aa86-175623777168",
   "metadata": {},
   "outputs": [
    {
     "data": {
      "text/plain": [
       "(1, 5, 2022)"
      ]
     },
     "execution_count": 130,
     "metadata": {},
     "output_type": "execute_result"
    }
   ],
   "source": [
    "fecha_siguiente(31,4,2022) #prueba con dia final de mes"
   ]
  },
  {
   "cell_type": "code",
   "execution_count": 131,
   "id": "09f6749b-9cb8-4a1c-ab86-2b93e2fa80f9",
   "metadata": {},
   "outputs": [
    {
     "data": {
      "text/plain": [
       "(1, 1, 2023)"
      ]
     },
     "execution_count": 131,
     "metadata": {},
     "output_type": "execute_result"
    }
   ],
   "source": [
    "fecha_siguiente(31,12,2022) #prueba final de año"
   ]
  },
  {
   "cell_type": "markdown",
   "id": "09c242be-3f4e-4fb4-8d1d-60735369d3d4",
   "metadata": {},
   "source": [
    "#### 2. Dada la siguiente lista: \n",
    "##### *palabras_espanol = [\"Perro\", \"Gato\", \"Casa\", \"Coche\",\"Árbol\", \"Sol\", \"Luna\", \"Mar\", \"Montaña\", \"Río\", \"Playa\", \"Libro\", \"Computadora\", \"Teléfono\", \"Amigo\", \"Familia\", \"Trabajo\", \"Comida\", \"Película\", \"Música\", \"Viaje\", \"Deporte\", \"Juego\", \"Amor\", \"Odio\", \"Felicidad\", \"Tristeza\", \"Alegría\", \"Dolor\", \"Sueño\", \"Noche\", \"Día\", \"Agua\", \"Fuego\", \"Aire\", \"Tierra\", \"Cielo\", \"Estrella\", \"Flor\", \"Fruta\", \"Verdura\", \"Chocolate\", \"Café\", \"Té\", \"Vino\", \"Cerveza\", \"Dinero\", \"Tiempo\", \"Reloj\", \"Reloj\"]*\n",
    "\n",
    "#### Construye un programa que muestre por pantalla cuantas veces aparece cada una de ellas."
   ]
  },
  {
   "cell_type": "code",
   "execution_count": 132,
   "id": "40be4602-a51e-427c-8119-39816bb64c44",
   "metadata": {},
   "outputs": [
    {
     "name": "stdout",
     "output_type": "stream",
     "text": [
      "{'Perro': 1, 'Gato': 1, 'Casa': 1, 'Coche': 1, 'Árbol': 1, 'Sol': 1, 'Luna': 1, 'Mar': 1, 'Montaña': 1, 'Río': 1, 'Playa': 1, 'Libro': 1, 'Computadora': 1, 'Teléfono': 1, 'Amigo': 1, 'Familia': 1, 'Trabajo': 1, 'Comida': 1, 'Película': 1, 'Música': 1, 'Viaje': 1, 'Deporte': 1, 'Juego': 1, 'Amor': 1, 'Odio': 1, 'Felicidad': 1, 'Tristeza': 1, 'Alegría': 1, 'Dolor': 1, 'Sueño': 1, 'Noche': 1, 'Día': 1, 'Agua': 1, 'Fuego': 1, 'Aire': 1, 'Tierra': 1, 'Cielo': 1, 'Estrella': 1, 'Flor': 1, 'Fruta': 1, 'Verdura': 1, 'Chocolate': 1, 'Café': 1, 'Té': 1, 'Vino': 1, 'Cerveza': 1, 'Dinero': 1, 'Tiempo': 1, 'Reloj': 2}\n"
     ]
    }
   ],
   "source": [
    "palabras_espanol = [\"Perro\", \"Gato\", \"Casa\", \"Coche\",\"Árbol\", \"Sol\", \"Luna\", \"Mar\", \"Montaña\", \"Río\", \"Playa\", \n",
    "                    \"Libro\", \"Computadora\", \"Teléfono\", \"Amigo\", \"Familia\", \"Trabajo\", \"Comida\", \"Película\", \n",
    "                    \"Música\", \"Viaje\", \"Deporte\", \"Juego\", \"Amor\", \"Odio\", \"Felicidad\", \"Tristeza\", \"Alegría\", \n",
    "                    \"Dolor\", \"Sueño\", \"Noche\", \"Día\", \"Agua\", \"Fuego\", \"Aire\", \"Tierra\", \"Cielo\", \"Estrella\", \n",
    "                    \"Flor\", \"Fruta\", \"Verdura\", \"Chocolate\", \"Café\", \"Té\", \"Vino\", \"Cerveza\", \"Dinero\", \"Tiempo\", \"Reloj\", \"Reloj\"]\n",
    "n_palabra = {}\n",
    "\n",
    "for palabra in palabras_espanol:\n",
    "    if palabra in n_palabra:\n",
    "        n_palabra[palabra] = n_palabra[palabra]+1\n",
    "    else:\n",
    "        n_palabra[palabra] = 1\n",
    "        \n",
    "print(n_palabra)\n",
    "        \n",
    "    "
   ]
  },
  {
   "cell_type": "markdown",
   "id": "a214971d-e5ae-4fe0-b803-a184e939c46a",
   "metadata": {},
   "source": [
    "#### 3. Dado el siguiente diccionario con información del precio de diferentes productos por día.\n",
    "##### *precio_origen = {\"cebolla\": [30.3, 20.3, 25.9, 39.0], \"patata\":[0.33, 0.43, 0.34, 0.12], \"naranja\":[0.45, 0.56, 0.38, 0.43]}*\n",
    "#### Responde a las siguientes preguntas:\n",
    "##### ¿Cuál es el precio máximo de cada producto?\n",
    "##### ¿Cuál es el producto más caro?\n",
    "##### ¿Qué día son más caras las naranjas?"
   ]
  },
  {
   "cell_type": "code",
   "execution_count": 70,
   "id": "d836467f-33de-4912-a120-78cf0b2c3417",
   "metadata": {},
   "outputs": [],
   "source": [
    "precio_origen = {\"cebolla\": [30.3, 20.3, 25.9, 39.0], \"patata\":[0.33, 0.43, 0.34, 0.12], \"naranja\":[0.45, 0.56, 0.38, 0.43]}\n",
    "\n",
    "#pasamos todo a eur/kg\n",
    "precio_origen[\"cebolla\"] = [precio / 100 for precio in precio_origen[\"cebolla\"]]"
   ]
  },
  {
   "cell_type": "code",
   "execution_count": 84,
   "id": "a743545e-7765-437a-80e5-eac5eba3a73a",
   "metadata": {},
   "outputs": [
    {
     "name": "stdout",
     "output_type": "stream",
     "text": [
      "El precio máximo de la cebolla es: 0.39 eur/kg \n",
      "\n",
      "El precio máximo de la patata es: 0.43 eur/kg \n",
      "\n",
      "El precio máximo de la naranja es: 0.56 eur/kg \n",
      "\n",
      "El producto más caro es la naranja \n",
      "\n",
      "Las naranjas són más caras el día 2\n"
     ]
    }
   ],
   "source": [
    "precio_caro = max(precio_origen[\"cebolla\"]) #asignamos al producto mas caro el primer producto para despues compararlo y quedarnos el mas caro\n",
    "producto_caro = \"cebolla\"\n",
    "\n",
    "for producto in precio_origen:\n",
    "    \n",
    "    print(\"El precio máximo de la\", producto, \"es:\", max(precio_origen[producto]),\"eur/kg\",\"\\n\") #maximo precio de cada producto\n",
    "    \n",
    "    if precio_caro < max(precio_origen[producto]): #encontramos el producto mas caro\n",
    "        precio_caro = max(precio_origen[producto])\n",
    "        producto_caro = producto\n",
    "        \n",
    "print(\"El producto más caro es la\", producto_caro,\"\\n\")\n",
    "\n",
    "dia = 0 #asignamos al dia1 para compararlo con los otros días y quedarnos el día mas caro\n",
    "for i in range(len(precio_origen[\"naranja\"])):\n",
    "    if precio_origen[\"naranja\"][dia] < precio_origen[\"naranja\"][i]:\n",
    "        dia = i\n",
    "    \n",
    "print(\"Las naranjas són más caras el día\", dia+1)"
   ]
  },
  {
   "cell_type": "markdown",
   "id": "9bd42fcb-fb31-444b-aff2-324a44c27efa",
   "metadata": {},
   "source": [
    "### **Problemas**\n",
    "#### Una empresa tiene un inventario de productos con diferentes categorías, y cada producto tiene un precio y una cantidad en stock. El objetivo es gestionar el inventario de forma eficiente. Instrucciones:\n",
    "#### 1. Crea un diccionario donde la clave sea el nombre de una categoría de producto y el valor sea una lista de tuplas. Cada tupla contendrá el nombre del producto, el precio y la cantidad en stock."
   ]
  },
  {
   "cell_type": "code",
   "execution_count": 117,
   "id": "21be8fd9-db36-4370-a2e9-68c1a8915c69",
   "metadata": {},
   "outputs": [],
   "source": [
    "inventario = {\"Camisetas\": [\n",
    "        (\"Tirantes\", 5, 50),\n",
    "        (\"Manga Corta\", 7, 100),\n",
    "        (\"Manga Larga\", 10, 80)\n",
    "    ],\n",
    "    \"Pantalones\": [\n",
    "        (\"Vaqueros\", 20, 200),\n",
    "        (\"Chinos\", 22, 50),\n",
    "        (\"Cargo\", 18, 75)\n",
    "    ],\n",
    "    \"Chaquetas\": [\n",
    "        (\"Gabardina\", 40, 40),\n",
    "        (\"Americana\", 30, 20),\n",
    "        (\"Abrigo\", 50, 60)\n",
    "    ]}"
   ]
  },
  {
   "cell_type": "markdown",
   "id": "b7c64111-1379-4fa0-a1f4-c0439d0e00ce",
   "metadata": {},
   "source": [
    "#### 2. Crea una función que calcule el valor total de inventario por categoría (precio por cantidad para cada producto)."
   ]
  },
  {
   "cell_type": "code",
   "execution_count": 92,
   "id": "649a4285-4f95-4bef-ad85-e4fbca858ce1",
   "metadata": {},
   "outputs": [
    {
     "data": {
      "text/plain": [
       "{'Camisetas': 1750, 'Pantalones': 6450, 'Chaquetas': 5200}"
      ]
     },
     "execution_count": 92,
     "metadata": {},
     "output_type": "execute_result"
    }
   ],
   "source": [
    "def valor_inventario (inv):\n",
    "    total_inventario = {}\n",
    "    for categoria, productos in inv.items():\n",
    "        valor = 0\n",
    "        for producto in productos:\n",
    "            nombre, precio, stock = producto\n",
    "            valor += precio * stock\n",
    "        total_inventario[categoria] = valor\n",
    "\n",
    "    return total_inventario\n",
    "        \n",
    "\n",
    "valor_inventario(inventario)"
   ]
  },
  {
   "cell_type": "markdown",
   "id": "ea8e4b84-5d6e-41a9-a4bc-193b27ffa2b4",
   "metadata": {},
   "source": [
    "#### 3. Muestra la categoría que tiene el valor total más alto en inventario.\n"
   ]
  },
  {
   "cell_type": "code",
   "execution_count": 93,
   "id": "42efdb17-d85c-4c32-8e29-1463c44e81d0",
   "metadata": {},
   "outputs": [
    {
     "data": {
      "text/plain": [
       "'Pantalones'"
      ]
     },
     "execution_count": 93,
     "metadata": {},
     "output_type": "execute_result"
    }
   ],
   "source": [
    "max(valor_inventario(inventario))"
   ]
  },
  {
   "cell_type": "markdown",
   "id": "652e1663-4478-4a3c-820a-5e75b446243e",
   "metadata": {},
   "source": [
    "#### 4. Añade una opción para actualizar el stock de un producto en una categoría específica."
   ]
  },
  {
   "cell_type": "code",
   "execution_count": 121,
   "id": "50f1c7e1-9497-4994-8699-1cbb7ff353dc",
   "metadata": {},
   "outputs": [],
   "source": [
    "def actualizar_stock (inv, categ, prod, new_stck):\n",
    "    for i, (nombre, precio, stck) in enumerate(inv[categ]):\n",
    "        if nombre == prod:\n",
    "            inv[categ][i] = (prod, precio, new_stck)\n",
    "            return\n",
    "\n",
    "actualizar_stock(inventario, \"Pantalones\", \"Vaqueros\", 20)"
   ]
  },
  {
   "cell_type": "code",
   "execution_count": 123,
   "id": "4d86df4d-f2e1-429c-b5c9-893c3eeeee37",
   "metadata": {},
   "outputs": [
    {
     "name": "stdout",
     "output_type": "stream",
     "text": [
      "{'Camisetas': [('Tirantes', 5, 50), ('Manga Corta', 7, 100), ('Manga Larga', 10, 80)], 'Pantalones': [('Vaqueros', 20, 20), ('Chinos', 22, 50), ('Cargo', 18, 75)], 'Chaquetas': [('Gabardina', 40, 40), ('Americana', 30, 20), ('Abrigo', 50, 60)]}\n"
     ]
    }
   ],
   "source": [
    "print(inventario)"
   ]
  }
 ],
 "metadata": {
  "kernelspec": {
   "display_name": "Python 3 (ipykernel)",
   "language": "python",
   "name": "python3"
  },
  "language_info": {
   "codemirror_mode": {
    "name": "ipython",
    "version": 3
   },
   "file_extension": ".py",
   "mimetype": "text/x-python",
   "name": "python",
   "nbconvert_exporter": "python",
   "pygments_lexer": "ipython3",
   "version": "3.13.0"
  }
 },
 "nbformat": 4,
 "nbformat_minor": 5
}
